{
  "nbformat": 4,
  "nbformat_minor": 0,
  "metadata": {
    "colab": {
      "provenance": [],
      "include_colab_link": true
    },
    "kernelspec": {
      "name": "python3",
      "display_name": "Python 3"
    },
    "language_info": {
      "name": "python"
    }
  },
  "cells": [
    {
      "cell_type": "markdown",
      "metadata": {
        "id": "view-in-github",
        "colab_type": "text"
      },
      "source": [
        "<a href=\"https://colab.research.google.com/github/raizanbu/apuntes-python/blob/main/1.%20Tipos%20de%20datos%20b%C3%A1sicos.ipynb\" target=\"_parent\"><img src=\"https://colab.research.google.com/assets/colab-badge.svg\" alt=\"Open In Colab\"/></a>"
      ]
    },
    {
      "cell_type": "markdown",
      "source": [
        "# Tipos de Datos\n",
        "\n",
        "Los tipos de datos son un conjunto de valores con características y propiedades determinadas.\n",
        "\n",
        "Los datos básicos son:\n",
        "\n",
        "1. **Booleanos :** *bool* = True, False\n",
        "2. **Númericos:**\n",
        "  - **Enteros :** *int* = 10\n",
        "  - **Flotantes :** *float* = 10.4\n",
        "3. **Cadenas de caracteres:** *str* = \"Hola, mundo!\""
      ],
      "metadata": {
        "id": "APXg8hLYmKBs"
      }
    },
    {
      "cell_type": "markdown",
      "source": [
        "# Variables\n",
        "\n",
        "Es una \"caja\" en la que podemos guardar un valor. Esta \"caja\" tiene un espacio en la memoria.\n",
        "\n",
        "Se pueden represtarn con letras, palabras completas. Ej.\n",
        "\n",
        "- x = 1\n",
        "- precio_dolar = 19.94\n",
        "- capital_mexico = \"cdmx\"\n",
        "- bebo_poco = True\n",
        "\n",
        "**Nombres NO válidos:**\n",
        "\n",
        "- Números: 1, 2, 3, ..., n\n",
        "- Palabras **reservadas** o **integradas** (built-in) en Python: str, int, float, print"
      ],
      "metadata": {
        "id": "oxkzSu-A4IXf"
      }
    },
    {
      "cell_type": "markdown",
      "source": [
        "# Funciones\n",
        "Son instrucciones de código reutilizables que llevan a cabo una tarea en particular\n",
        "\n",
        "1. **type** - Regresa el tipo de dato del objeto\n",
        "2. **print** - Función que envía la información solicitada a la ventana de consola"
      ],
      "metadata": {
        "id": "S-YitxWB4LJ_"
      }
    },
    {
      "cell_type": "markdown",
      "source": [
        "# Lab: Tipos de Datos"
      ],
      "metadata": {
        "id": "XYfFbvFx4RCk"
      }
    },
    {
      "cell_type": "markdown",
      "source": [
        "## Tipo int"
      ],
      "metadata": {
        "id": "lSptwM-1uJpF"
      }
    },
    {
      "cell_type": "code",
      "source": [
        "entero = 124"
      ],
      "metadata": {
        "id": "ddr_Tf7HtPsp"
      },
      "execution_count": null,
      "outputs": []
    },
    {
      "cell_type": "code",
      "source": [
        "print(entero)"
      ],
      "metadata": {
        "id": "xO1Mzw9ytZjU"
      },
      "execution_count": null,
      "outputs": []
    },
    {
      "cell_type": "code",
      "source": [
        "print(type(entero))"
      ],
      "metadata": {
        "id": "GuLtDXTGtdDM"
      },
      "execution_count": null,
      "outputs": []
    },
    {
      "cell_type": "markdown",
      "source": [
        "## Tipo float"
      ],
      "metadata": {
        "id": "OxlrU3cyuMmk"
      }
    },
    {
      "cell_type": "code",
      "source": [
        "dolar = 19.94"
      ],
      "metadata": {
        "id": "z3lbzYrGtrwA"
      },
      "execution_count": null,
      "outputs": []
    },
    {
      "cell_type": "code",
      "source": [
        "print(dolar)"
      ],
      "metadata": {
        "id": "sL3quT1ptutM"
      },
      "execution_count": null,
      "outputs": []
    },
    {
      "cell_type": "code",
      "source": [
        "print(type(dolar))"
      ],
      "metadata": {
        "id": "t2JeNBCkt1B2"
      },
      "execution_count": null,
      "outputs": []
    },
    {
      "cell_type": "markdown",
      "source": [
        "## Tipo bool"
      ],
      "metadata": {
        "id": "FJwbKG4guSDd"
      }
    },
    {
      "cell_type": "code",
      "source": [
        "bebo_poco = True"
      ],
      "metadata": {
        "id": "CRTByLzbt4Kx"
      },
      "execution_count": null,
      "outputs": []
    },
    {
      "cell_type": "code",
      "source": [
        "print(bebo_poco)"
      ],
      "metadata": {
        "id": "AVcjHGWYt_cr"
      },
      "execution_count": null,
      "outputs": []
    },
    {
      "cell_type": "code",
      "source": [
        "print(type(bebo_poco))"
      ],
      "metadata": {
        "id": "J7o4Fm3XuA_D"
      },
      "execution_count": null,
      "outputs": []
    },
    {
      "cell_type": "markdown",
      "source": [
        "## Tipo str"
      ],
      "metadata": {
        "id": "J8xuyvN2uUj1"
      }
    },
    {
      "cell_type": "code",
      "source": [
        "capital_mexico = \"cdmx\""
      ],
      "metadata": {
        "id": "PQw5jCwPuWGl"
      },
      "execution_count": null,
      "outputs": []
    },
    {
      "cell_type": "code",
      "source": [
        "capital_mexico = 'cdmx'"
      ],
      "metadata": {
        "id": "XHG6ikRauZVA"
      },
      "execution_count": null,
      "outputs": []
    },
    {
      "cell_type": "code",
      "source": [
        "print(capital_mexico)"
      ],
      "metadata": {
        "id": "A6zHpvkmubol"
      },
      "execution_count": null,
      "outputs": []
    },
    {
      "cell_type": "code",
      "source": [
        "print(type(capital_mexico))"
      ],
      "metadata": {
        "id": "KRDly-fduld2"
      },
      "execution_count": null,
      "outputs": []
    },
    {
      "cell_type": "markdown",
      "source": [
        "## Casteo\n",
        "\n",
        "Nos permite convertir de un tipo de dato a otro. Para ello usamos **constructor functions**:\n",
        "- int()\n",
        "- float()\n",
        "- str()"
      ],
      "metadata": {
        "id": "F9PEnVRIxlaR"
      }
    },
    {
      "cell_type": "code",
      "source": [
        "x = '2'\n",
        "print(x)"
      ],
      "metadata": {
        "id": "PWxOFceWx_y0"
      },
      "execution_count": null,
      "outputs": []
    },
    {
      "cell_type": "code",
      "source": [
        "print(x * 3)"
      ],
      "metadata": {
        "id": "NUeZMwpxyfXl"
      },
      "execution_count": null,
      "outputs": []
    },
    {
      "cell_type": "code",
      "source": [
        "x_int = int(x)"
      ],
      "metadata": {
        "id": "Ha0tjbqoyCvv"
      },
      "execution_count": null,
      "outputs": []
    },
    {
      "cell_type": "code",
      "source": [
        "print(x_int)"
      ],
      "metadata": {
        "id": "mGw9W3qfylp4"
      },
      "execution_count": null,
      "outputs": []
    },
    {
      "cell_type": "code",
      "source": [
        "print(type(x_int))"
      ],
      "metadata": {
        "id": "UnGRXuy4yGvu"
      },
      "execution_count": null,
      "outputs": []
    },
    {
      "cell_type": "code",
      "source": [
        "dolar = float(19.94)"
      ],
      "metadata": {
        "id": "MrBK1IYm5TGP"
      },
      "execution_count": null,
      "outputs": []
    },
    {
      "cell_type": "code",
      "source": [
        "print(type(dolar))"
      ],
      "metadata": {
        "id": "EhGW3xJg5XA_"
      },
      "execution_count": null,
      "outputs": []
    },
    {
      "cell_type": "markdown",
      "source": [
        "# Variables"
      ],
      "metadata": {
        "id": "F-qys6ulAg-0"
      }
    },
    {
      "cell_type": "code",
      "source": [
        "texto = \"Hola Mundo\" # Cadenas de caracteres o str\n",
        "type(texto) # comprobar tipo de dato"
      ],
      "metadata": {
        "id": "W0D7vW_3Ak-F"
      },
      "execution_count": null,
      "outputs": []
    },
    {
      "cell_type": "code",
      "source": [
        "numero: int = 23 # número entero\n",
        "type(numero) # comprobar tipo de dato"
      ],
      "metadata": {
        "id": "LaUSuCUNAmA9"
      },
      "execution_count": null,
      "outputs": []
    },
    {
      "cell_type": "code",
      "source": [
        "flotante = 23.01 # número flotante\n",
        "type(flotante) # comprobar tipo de dato"
      ],
      "metadata": {
        "id": "5b_K7qIbAnOi"
      },
      "execution_count": null,
      "outputs": []
    },
    {
      "cell_type": "markdown",
      "source": [
        "### Asignación de múltiples valores a múltiples variables"
      ],
      "metadata": {
        "id": "reB7ttmkAoZm"
      }
    },
    {
      "cell_type": "code",
      "source": [
        "a = 5\n",
        "b = 3.2\n",
        "c = \"Hola\"\n",
        "\n",
        "print(a, type(a))\n",
        "print(b, type(b))\n",
        "print(c, type(c))"
      ],
      "metadata": {
        "id": "DwhEjBERAqHl"
      },
      "execution_count": null,
      "outputs": []
    },
    {
      "cell_type": "code",
      "source": [
        "a, b, c = 5, 3.2, \"Hola\"\n",
        "\n",
        "print(a, type(a))\n",
        "print(b, type(b))\n",
        "print(c, type(c))"
      ],
      "metadata": {
        "id": "UssWh5ZwAtEs"
      },
      "execution_count": null,
      "outputs": []
    },
    {
      "cell_type": "markdown",
      "source": [
        "Asignar el mismo valor a múltiples variables"
      ],
      "metadata": {
        "id": "k0nvWAnHAw0g"
      }
    },
    {
      "cell_type": "code",
      "source": [
        "x = True\n",
        "y = True\n",
        "z = True\n",
        "\n",
        "print(x, y, z, type(x), type(y), type(z))"
      ],
      "metadata": {
        "id": "qSgCErHRAx0O"
      },
      "execution_count": null,
      "outputs": []
    },
    {
      "cell_type": "code",
      "source": [
        "x = 'letra'\n",
        "y = 'letra'\n",
        "z = 'letra'\n",
        "\n",
        "print(x, y, z, type(x), type(y), type(z))"
      ],
      "metadata": {
        "id": "pJl0WIjJA0Dc"
      },
      "execution_count": null,
      "outputs": []
    },
    {
      "cell_type": "code",
      "source": [
        "x = y = z = 'letra'\n",
        "print(x, y, z, type(x), type(y), type(z))"
      ],
      "metadata": {
        "id": "weINxEl5A2VV"
      },
      "execution_count": null,
      "outputs": []
    },
    {
      "cell_type": "markdown",
      "source": [
        "# Ejercicios"
      ],
      "metadata": {
        "id": "dgLSTW9uBrfp"
      }
    },
    {
      "cell_type": "markdown",
      "source": [
        "1. Crea la variable `hello_world` y asignale el valor `\"Hello, world!\"`. ¿Qué tipo de dato es?"
      ],
      "metadata": {
        "id": "-Y0wTrxtB7P4"
      }
    },
    {
      "cell_type": "code",
      "source": [
        "# Aquí va tu código"
      ],
      "metadata": {
        "id": "HXmRmyIwB5oO"
      },
      "execution_count": null,
      "outputs": []
    },
    {
      "cell_type": "markdown",
      "source": [
        "2. **Dato final** <br>\n",
        "a) Crea la variable `numero_ocho` y asignale el valor `\"8\"` (**Observa** que el valor ocho se encuentra entre comillas). <br>\n",
        "b) Realiza un **casteo**, para convertir un *string* a *integer*. <br>\n",
        "c) Usa la función *type* y verifica que sea de tipo **int**"
      ],
      "metadata": {
        "id": "fDRDn2rbB9y3"
      }
    },
    {
      "cell_type": "code",
      "source": [
        "# Aquí va tu código"
      ],
      "metadata": {
        "id": "FGSoGtKGB9Cx"
      },
      "execution_count": null,
      "outputs": []
    },
    {
      "cell_type": "markdown",
      "source": [
        "3. Crea tres variables y nombralas como quieras.\n",
        "Asignales un valor tal que sumados den 13."
      ],
      "metadata": {
        "id": "LRFndVgzCCa3"
      }
    },
    {
      "cell_type": "code",
      "source": [
        "# Aquí va tu código"
      ],
      "metadata": {
        "id": "zpUvU1SHCEO2"
      },
      "execution_count": null,
      "outputs": []
    },
    {
      "cell_type": "markdown",
      "source": [
        "4. Crea una variable de tipo *bool*"
      ],
      "metadata": {
        "id": "rMzb8RmgCHRQ"
      }
    },
    {
      "cell_type": "code",
      "source": [
        "# Aquí va tu código"
      ],
      "metadata": {
        "id": "2cb5LeWGCGki"
      },
      "execution_count": null,
      "outputs": []
    },
    {
      "cell_type": "markdown",
      "source": [
        "5. **Doble Casteo** <br>\n",
        "Convierte el string `\"2.0\"` a integer<br>\n",
        "a) Crea una variable de tipo str,<br>\n",
        "b) Realiza un casteo para convertirlo a tipo float, <br>\n",
        "c) y finalmente realiza otro casteo a tipo int"
      ],
      "metadata": {
        "id": "2ft6Oe_7CJwh"
      }
    },
    {
      "cell_type": "code",
      "source": [
        "# Aquí va tu código"
      ],
      "metadata": {
        "id": "4SrdKt9KMp5E"
      },
      "execution_count": null,
      "outputs": []
    }
  ]
}