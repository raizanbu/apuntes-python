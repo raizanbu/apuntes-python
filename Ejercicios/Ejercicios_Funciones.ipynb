{
  "nbformat": 4,
  "nbformat_minor": 0,
  "metadata": {
    "colab": {
      "provenance": [],
      "include_colab_link": true
    },
    "kernelspec": {
      "name": "python3",
      "display_name": "Python 3"
    },
    "language_info": {
      "name": "python"
    }
  },
  "cells": [
    {
      "cell_type": "markdown",
      "metadata": {
        "id": "view-in-github",
        "colab_type": "text"
      },
      "source": [
        "<a href=\"https://colab.research.google.com/github/raizanbu/apuntes-python/blob/main/Ejercicios/Ejercicios_Funciones.ipynb\" target=\"_parent\"><img src=\"https://colab.research.google.com/assets/colab-badge.svg\" alt=\"Open In Colab\"/></a>"
      ]
    },
    {
      "cell_type": "markdown",
      "source": [
        "1. Crea una función para identificar si un número es par o no lo es. <br>\n",
        "inputs: número <br>\n",
        "outputs: booleano"
      ],
      "metadata": {
        "id": "SUclDSgsmy7l"
      }
    },
    {
      "cell_type": "code",
      "execution_count": 11,
      "metadata": {
        "id": "8LWjoAZSmvw1"
      },
      "outputs": [],
      "source": [
        "def par_impar(numero):\n",
        "  if numero%2 == 0:\n",
        "    return True\n",
        "  else:\n",
        "    return False"
      ]
    },
    {
      "cell_type": "code",
      "source": [
        "par_impar(3)"
      ],
      "metadata": {
        "id": "H0kUNBAKyNNx",
        "outputId": "f767b46c-9c25-4928-a8f4-a22fbbc4f279",
        "colab": {
          "base_uri": "https://localhost:8080/"
        }
      },
      "execution_count": 13,
      "outputs": [
        {
          "output_type": "execute_result",
          "data": {
            "text/plain": [
              "False"
            ]
          },
          "metadata": {},
          "execution_count": 13
        }
      ]
    },
    {
      "cell_type": "code",
      "source": [
        "# para varios numeros en un rango definido o una lista, aquí se llama a la función\n",
        "numero=range(1,11,1)\n",
        "for n in numero:\n",
        "  print(n, par_impar(n))"
      ],
      "metadata": {
        "id": "jYOEpDICzFgG",
        "outputId": "9e3999a0-4189-4214-e4eb-82b2206d223a",
        "colab": {
          "base_uri": "https://localhost:8080/"
        }
      },
      "execution_count": 27,
      "outputs": [
        {
          "output_type": "stream",
          "name": "stdout",
          "text": [
            "1 False\n",
            "2 True\n",
            "3 False\n",
            "4 True\n",
            "5 False\n",
            "6 True\n",
            "7 False\n",
            "8 True\n",
            "9 False\n",
            "10 True\n"
          ]
        }
      ]
    },
    {
      "cell_type": "markdown",
      "source": [
        "2. Crea una función para convertir de grados centigrados a Fahrenheit. <br>\n",
        "```\n",
        "ºF = ºC x 1.8 + 32.\n",
        "```\n",
        "inputs: número <br>\n",
        "outputs: número <br>\n",
        "\n",
        "Prueba la función dentro de un ciclo for con los siguientes números:"
      ],
      "metadata": {
        "id": "QVc92hdzmzM-"
      }
    },
    {
      "cell_type": "code",
      "source": [
        "def centigrados_a_fahrenheit(grados_c):\n",
        "  grados_f = (grados_c * 9/5)+32\n",
        "  print(grados_f)"
      ],
      "metadata": {
        "id": "kCcxojfY2ekn"
      },
      "execution_count": 37,
      "outputs": []
    },
    {
      "cell_type": "code",
      "source": [
        "centigrados_a_fahrenheit(100)"
      ],
      "metadata": {
        "id": "yI4XO1-V2yyB",
        "outputId": "6a6466bd-b54d-49e1-df9a-1e931d6dda7a",
        "colab": {
          "base_uri": "https://localhost:8080/"
        }
      },
      "execution_count": 39,
      "outputs": [
        {
          "output_type": "stream",
          "name": "stdout",
          "text": [
            "212.0\n"
          ]
        }
      ]
    },
    {
      "cell_type": "code",
      "source": [
        "#@title { run: \"auto\", vertical-output: false }\n",
        "import pandas as pd\n",
        "pd.DataFrame(columns=['Temperatura', 'ºC', 'ºF'],\n",
        "             index=[1, 2, 3, 4],\n",
        "             data=[['Punto ebullición agua', 100, 212],\n",
        "                   ['Punto congelación agua', 0, 32],\n",
        "                   ['Temperatura corporal promedio del cuerpo humano', 37, 98.6],\n",
        "                   ['Temperatura ambiente confortable', 20, 68]\n",
        "                   ])"
      ],
      "metadata": {
        "id": "_n4_kRdP7sBv",
        "outputId": "37e5e4d7-2674-4ab9-8d4c-3b5695933f82",
        "colab": {
          "base_uri": "https://localhost:8080/",
          "height": 175
        }
      },
      "execution_count": null,
      "outputs": [
        {
          "output_type": "execute_result",
          "data": {
            "text/plain": [
              "                                       Temperatura   ºC     ºF\n",
              "1                            Punto ebullición agua  100  212.0\n",
              "2                           Punto congelación agua    0   32.0\n",
              "3  Temperatura corporal promedio del cuerpo humano   37   98.6\n",
              "4                 Temperatura ambiente confortable   20   68.0"
            ],
            "text/html": [
              "\n",
              "  <div id=\"df-c0f7853f-8a3f-4c5c-aabe-b8653d93babb\">\n",
              "    <div class=\"colab-df-container\">\n",
              "      <div>\n",
              "<style scoped>\n",
              "    .dataframe tbody tr th:only-of-type {\n",
              "        vertical-align: middle;\n",
              "    }\n",
              "\n",
              "    .dataframe tbody tr th {\n",
              "        vertical-align: top;\n",
              "    }\n",
              "\n",
              "    .dataframe thead th {\n",
              "        text-align: right;\n",
              "    }\n",
              "</style>\n",
              "<table border=\"1\" class=\"dataframe\">\n",
              "  <thead>\n",
              "    <tr style=\"text-align: right;\">\n",
              "      <th></th>\n",
              "      <th>Temperatura</th>\n",
              "      <th>ºC</th>\n",
              "      <th>ºF</th>\n",
              "    </tr>\n",
              "  </thead>\n",
              "  <tbody>\n",
              "    <tr>\n",
              "      <th>1</th>\n",
              "      <td>Punto ebullición agua</td>\n",
              "      <td>100</td>\n",
              "      <td>212.0</td>\n",
              "    </tr>\n",
              "    <tr>\n",
              "      <th>2</th>\n",
              "      <td>Punto congelación agua</td>\n",
              "      <td>0</td>\n",
              "      <td>32.0</td>\n",
              "    </tr>\n",
              "    <tr>\n",
              "      <th>3</th>\n",
              "      <td>Temperatura corporal promedio del cuerpo humano</td>\n",
              "      <td>37</td>\n",
              "      <td>98.6</td>\n",
              "    </tr>\n",
              "    <tr>\n",
              "      <th>4</th>\n",
              "      <td>Temperatura ambiente confortable</td>\n",
              "      <td>20</td>\n",
              "      <td>68.0</td>\n",
              "    </tr>\n",
              "  </tbody>\n",
              "</table>\n",
              "</div>\n",
              "      <button class=\"colab-df-convert\" onclick=\"convertToInteractive('df-c0f7853f-8a3f-4c5c-aabe-b8653d93babb')\"\n",
              "              title=\"Convert this dataframe to an interactive table.\"\n",
              "              style=\"display:none;\">\n",
              "        \n",
              "  <svg xmlns=\"http://www.w3.org/2000/svg\" height=\"24px\"viewBox=\"0 0 24 24\"\n",
              "       width=\"24px\">\n",
              "    <path d=\"M0 0h24v24H0V0z\" fill=\"none\"/>\n",
              "    <path d=\"M18.56 5.44l.94 2.06.94-2.06 2.06-.94-2.06-.94-.94-2.06-.94 2.06-2.06.94zm-11 1L8.5 8.5l.94-2.06 2.06-.94-2.06-.94L8.5 2.5l-.94 2.06-2.06.94zm10 10l.94 2.06.94-2.06 2.06-.94-2.06-.94-.94-2.06-.94 2.06-2.06.94z\"/><path d=\"M17.41 7.96l-1.37-1.37c-.4-.4-.92-.59-1.43-.59-.52 0-1.04.2-1.43.59L10.3 9.45l-7.72 7.72c-.78.78-.78 2.05 0 2.83L4 21.41c.39.39.9.59 1.41.59.51 0 1.02-.2 1.41-.59l7.78-7.78 2.81-2.81c.8-.78.8-2.07 0-2.86zM5.41 20L4 18.59l7.72-7.72 1.47 1.35L5.41 20z\"/>\n",
              "  </svg>\n",
              "      </button>\n",
              "      \n",
              "  <style>\n",
              "    .colab-df-container {\n",
              "      display:flex;\n",
              "      flex-wrap:wrap;\n",
              "      gap: 12px;\n",
              "    }\n",
              "\n",
              "    .colab-df-convert {\n",
              "      background-color: #E8F0FE;\n",
              "      border: none;\n",
              "      border-radius: 50%;\n",
              "      cursor: pointer;\n",
              "      display: none;\n",
              "      fill: #1967D2;\n",
              "      height: 32px;\n",
              "      padding: 0 0 0 0;\n",
              "      width: 32px;\n",
              "    }\n",
              "\n",
              "    .colab-df-convert:hover {\n",
              "      background-color: #E2EBFA;\n",
              "      box-shadow: 0px 1px 2px rgba(60, 64, 67, 0.3), 0px 1px 3px 1px rgba(60, 64, 67, 0.15);\n",
              "      fill: #174EA6;\n",
              "    }\n",
              "\n",
              "    [theme=dark] .colab-df-convert {\n",
              "      background-color: #3B4455;\n",
              "      fill: #D2E3FC;\n",
              "    }\n",
              "\n",
              "    [theme=dark] .colab-df-convert:hover {\n",
              "      background-color: #434B5C;\n",
              "      box-shadow: 0px 1px 3px 1px rgba(0, 0, 0, 0.15);\n",
              "      filter: drop-shadow(0px 1px 2px rgba(0, 0, 0, 0.3));\n",
              "      fill: #FFFFFF;\n",
              "    }\n",
              "  </style>\n",
              "\n",
              "      <script>\n",
              "        const buttonEl =\n",
              "          document.querySelector('#df-c0f7853f-8a3f-4c5c-aabe-b8653d93babb button.colab-df-convert');\n",
              "        buttonEl.style.display =\n",
              "          google.colab.kernel.accessAllowed ? 'block' : 'none';\n",
              "\n",
              "        async function convertToInteractive(key) {\n",
              "          const element = document.querySelector('#df-c0f7853f-8a3f-4c5c-aabe-b8653d93babb');\n",
              "          const dataTable =\n",
              "            await google.colab.kernel.invokeFunction('convertToInteractive',\n",
              "                                                     [key], {});\n",
              "          if (!dataTable) return;\n",
              "\n",
              "          const docLinkHtml = 'Like what you see? Visit the ' +\n",
              "            '<a target=\"_blank\" href=https://colab.research.google.com/notebooks/data_table.ipynb>data table notebook</a>'\n",
              "            + ' to learn more about interactive tables.';\n",
              "          element.innerHTML = '';\n",
              "          dataTable['output_type'] = 'display_data';\n",
              "          await google.colab.output.renderOutput(dataTable, element);\n",
              "          const docLink = document.createElement('div');\n",
              "          docLink.innerHTML = docLinkHtml;\n",
              "          element.appendChild(docLink);\n",
              "        }\n",
              "      </script>\n",
              "    </div>\n",
              "  </div>\n",
              "  "
            ]
          },
          "metadata": {},
          "execution_count": 8
        }
      ]
    },
    {
      "cell_type": "markdown",
      "source": [
        "3. Crea una función para convertir de grados fahrenheit a centigrados . <br>\n",
        "\n",
        "inputs: número <br>\n",
        "outputs: número"
      ],
      "metadata": {
        "id": "hc3rLQYDnL5V"
      }
    },
    {
      "cell_type": "code",
      "source": [
        "def fahrenheit_a_centigrados(grados_f):\n",
        "  grados_c = (grados_f-32)/1.8\n",
        "  print(grados_c)"
      ],
      "metadata": {
        "id": "_nze66NvnZ41"
      },
      "execution_count": 40,
      "outputs": []
    },
    {
      "cell_type": "code",
      "source": [
        "fahrenheit_a_centigrados(68)"
      ],
      "metadata": {
        "id": "Edg6k6Ji3y1r",
        "outputId": "07665669-19df-4e6d-d5ef-f39e39252e99",
        "colab": {
          "base_uri": "https://localhost:8080/"
        }
      },
      "execution_count": 42,
      "outputs": [
        {
          "output_type": "stream",
          "name": "stdout",
          "text": [
            "20.0\n"
          ]
        }
      ]
    },
    {
      "cell_type": "markdown",
      "source": [
        "4. Crea una función para generar una secuencia fibonacci para la cantidad de número fibonacci solicitados:\n",
        "```\n",
        ">>> fibonacci(8)\n",
        "[0, 1, 1, 2, 3, 5, 8, 13]\n",
        "```\n",
        "\n",
        "inputs: número <br>\n",
        "outputs: lista"
      ],
      "metadata": {
        "id": "x9FVWNBYnb1W"
      }
    },
    {
      "cell_type": "code",
      "source": [],
      "metadata": {
        "id": "IaruCbCQnbQ1"
      },
      "execution_count": null,
      "outputs": []
    }
  ]
}