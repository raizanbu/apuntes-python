{
  "nbformat": 4,
  "nbformat_minor": 0,
  "metadata": {
    "colab": {
      "provenance": [],
      "toc_visible": true,
      "include_colab_link": true
    },
    "kernelspec": {
      "name": "python3",
      "display_name": "Python 3"
    },
    "language_info": {
      "name": "python"
    }
  },
  "cells": [
    {
      "cell_type": "markdown",
      "metadata": {
        "id": "view-in-github",
        "colab_type": "text"
      },
      "source": [
        "<a href=\"https://colab.research.google.com/github/raizanbu/apuntes-python/blob/main/5.%20Bucles.ipynb\" target=\"_parent\"><img src=\"https://colab.research.google.com/assets/colab-badge.svg\" alt=\"Open In Colab\"/></a>"
      ]
    },
    {
      "cell_type": "markdown",
      "metadata": {
        "id": "JMmlmoGBCt7P"
      },
      "source": [
        "# Bucles\n",
        "\n",
        "Son estructuras de control de flujo que nos permitiran repetir (o iterar) un código.\n"
      ]
    },
    {
      "cell_type": "markdown",
      "metadata": {
        "id": "ut4LuKGdCw2N"
      },
      "source": [
        "# Ciclo for (for loop)\n",
        "La sentencia for de Python itera sobre los ítems de cualquier secuencia (una lista o una cadenas de caracteres), en el orden que aparecen en la secuencia.\n",
        "\n",
        "De una manera más ténica, itera sobre iterables (iterator object) lo cuales implementan el **iterator protocol**, compuesto por: `__iter__()` y `__next\n",
        "__()`"
      ]
    },
    {
      "cell_type": "code",
      "source": [
        "mi_lista = [1, 2, 3, 4, 5]"
      ],
      "metadata": {
        "id": "YW-3nVbfuxgf"
      },
      "execution_count": null,
      "outputs": []
    },
    {
      "cell_type": "code",
      "source": [
        "mi_lista.__iter__"
      ],
      "metadata": {
        "id": "UHnCcGWovR_X"
      },
      "execution_count": null,
      "outputs": []
    },
    {
      "cell_type": "code",
      "source": [
        "mi_lista.__next__"
      ],
      "metadata": {
        "id": "7WCvnWsYvU8A"
      },
      "execution_count": null,
      "outputs": []
    },
    {
      "cell_type": "code",
      "source": [
        "# Obteniendo un iterador\n",
        "mi_iterador = mi_lista.__iter__()"
      ],
      "metadata": {
        "id": "e1sIbLsbuzoU"
      },
      "execution_count": null,
      "outputs": []
    },
    {
      "cell_type": "code",
      "source": [
        "type(mi_iterador)"
      ],
      "metadata": {
        "id": "K1tD-Gl2wBWX"
      },
      "execution_count": null,
      "outputs": []
    },
    {
      "cell_type": "code",
      "source": [
        "mi_iterador.__next__()"
      ],
      "metadata": {
        "id": "qU5RzhG2vHfs"
      },
      "execution_count": null,
      "outputs": []
    },
    {
      "cell_type": "code",
      "source": [
        "# Mi iterador, se quedo sin elementos\n",
        "print(len(list(mi_iterador)))"
      ],
      "metadata": {
        "id": "SYtBau8pwsRa"
      },
      "execution_count": null,
      "outputs": []
    },
    {
      "cell_type": "markdown",
      "metadata": {
        "id": "f8ScbrAPsLQG"
      },
      "source": [
        "El ciclo **for lopp** es una manera más elegante de iterar sobre los elementos de una lista. <br>\n",
        "Para formar el ciclo for:\n",
        "```\n",
        "for item in lista:\n",
        "----hacer algo\n",
        "----print(item)\n",
        "```\n"
      ]
    },
    {
      "cell_type": "markdown",
      "metadata": {
        "id": "glBpv6YyFc8Y"
      },
      "source": [
        "## Bucle “for” con Listas"
      ]
    },
    {
      "cell_type": "code",
      "metadata": {
        "id": "8Bv784CcGA0s"
      },
      "source": [
        "planetas_lista = [\n",
        "    'Mercurio', 'Venus', 'Tierra',\n",
        "    'Marte', 'Júpiter', 'Saturno',\n",
        "    'Urano', 'Neptuno']"
      ],
      "execution_count": null,
      "outputs": []
    },
    {
      "cell_type": "code",
      "metadata": {
        "id": "plc_Hp5uE3nO"
      },
      "source": [
        "print(planetas_lista)"
      ],
      "execution_count": null,
      "outputs": []
    },
    {
      "cell_type": "code",
      "source": [
        "len(planetas_lista)"
      ],
      "metadata": {
        "id": "Y6aHAhyxxjW0"
      },
      "execution_count": null,
      "outputs": []
    },
    {
      "cell_type": "code",
      "source": [
        "planetas_lista = planetas_lista.__iter__()"
      ],
      "metadata": {
        "id": "jLSi2yKcv6xH"
      },
      "execution_count": null,
      "outputs": []
    },
    {
      "cell_type": "code",
      "source": [
        "planetas_lista.__next__()"
      ],
      "metadata": {
        "id": "NhWI_Ih-xnOK"
      },
      "execution_count": null,
      "outputs": []
    },
    {
      "cell_type": "code",
      "source": [
        "planeta = planetas_lista.__next__()\n",
        "print(planeta)"
      ],
      "metadata": {
        "id": "Vz-mouMu-vpj"
      },
      "execution_count": null,
      "outputs": []
    },
    {
      "cell_type": "code",
      "metadata": {
        "id": "Duy-U3BDC088"
      },
      "source": [
        "planetas_lista = [\n",
        "    'Mercurio', 'Venus', 'Tierra',\n",
        "    'Marte', 'Júpiter', 'Saturno',\n",
        "    'Urano', 'Neptuno']\n",
        "\n",
        "for planeta in planetas_lista:\n",
        "  print(planeta)\n",
        "  # if planeta in ['Mercurio', 'Venus', 'Tierra', 'Marte']:\n",
        "  #   print(f'El planeta {planeta} es rocoso')\n",
        "  # elif planeta in ['Júpiter', 'Saturno', 'Urano', 'Neptuno']:\n",
        "  #   print(f'El planeta {planeta} es gaseoso')\n",
        "  # else:\n",
        "  #   print('No es un planeta')"
      ],
      "execution_count": null,
      "outputs": []
    },
    {
      "cell_type": "markdown",
      "source": [
        "## Range\n",
        "Es un tipo de dato que representa una secuencia de números inmutable. <br>\n",
        "Calcula los items al vuelo o cuando estos son requeridos.\n",
        "\n",
        "Por lo tanto es más óptimo que una lista por ejemplo, por que ocupa menos espacio de memoria"
      ],
      "metadata": {
        "id": "eOmW_5ojzG3v"
      }
    },
    {
      "cell_type": "code",
      "source": [
        "range(1, 10)"
      ],
      "metadata": {
        "id": "cKs5a8vyyu5Q"
      },
      "execution_count": null,
      "outputs": []
    },
    {
      "cell_type": "code",
      "metadata": {
        "id": "Ux3jvOCTq1W5"
      },
      "source": [
        "type(range(1, 10))"
      ],
      "execution_count": null,
      "outputs": []
    },
    {
      "cell_type": "code",
      "metadata": {
        "id": "Eha_a1u9Hwkl"
      },
      "source": [
        "# [range(1, 10)]\n",
        "list(range(1, 10))"
      ],
      "execution_count": null,
      "outputs": []
    },
    {
      "cell_type": "code",
      "metadata": {
        "id": "NVHxKqPiFRt5"
      },
      "source": [
        "for i in range(1, 10):\n",
        "  print(i)"
      ],
      "execution_count": null,
      "outputs": []
    },
    {
      "cell_type": "code",
      "metadata": {
        "id": "gD39oMXwH5oR"
      },
      "source": [
        "list(range(-20, 10, 3))"
      ],
      "execution_count": null,
      "outputs": []
    },
    {
      "cell_type": "code",
      "metadata": {
        "id": "uEAalZy5H7VR"
      },
      "source": [
        "list(range(2, 12, 2))"
      ],
      "execution_count": null,
      "outputs": []
    },
    {
      "cell_type": "code",
      "metadata": {
        "id": "ldikxWQaH94x"
      },
      "source": [
        "list(range(12, 2, -2))"
      ],
      "execution_count": null,
      "outputs": []
    },
    {
      "cell_type": "markdown",
      "source": [
        "## Range vs List"
      ],
      "metadata": {
        "id": "lOeI68Z31T1x"
      }
    },
    {
      "cell_type": "code",
      "source": [
        "import sys\n",
        "\n",
        "# Nos devuelve el tamaño de un objeto en bytes\n",
        "\n",
        "sys.getsizeof(4)"
      ],
      "metadata": {
        "id": "8B9ZgHRSzcIn"
      },
      "execution_count": null,
      "outputs": []
    },
    {
      "cell_type": "code",
      "source": [
        "sys.getsizeof('hola')"
      ],
      "metadata": {
        "id": "UsBHO8Wvzf7F"
      },
      "execution_count": null,
      "outputs": []
    },
    {
      "cell_type": "code",
      "source": [
        "# Tamaño inicial 72 kb\n",
        "# Más 8 por item adicional\n",
        "sys.getsizeof([1, 2, 1000])"
      ],
      "metadata": {
        "id": "dlm3MWBlzhE-"
      },
      "execution_count": null,
      "outputs": []
    },
    {
      "cell_type": "code",
      "source": [
        "num_items = 100_000_000\n",
        "numbers_list = [item for item in range(num_items)]\n",
        "kb = sys.getsizeof(numbers_list)\n",
        "mb = kb / 1_000_000\n",
        "print(f'Una lista de {len(numbers_list):,} items tiene un tamaño de {mb:,} mb')"
      ],
      "metadata": {
        "id": "UNv5brp1znTf"
      },
      "execution_count": null,
      "outputs": []
    },
    {
      "cell_type": "code",
      "source": [
        "numbers_range = range(num_items)\n",
        "kb = sys.getsizeof(numbers_range)\n",
        "print(f'Un range de {num_items:,} items tiene un tamaño de {kb:,} kb')"
      ],
      "metadata": {
        "id": "4Byirh_fz1-m"
      },
      "execution_count": null,
      "outputs": []
    },
    {
      "cell_type": "code",
      "source": [
        "%%timeit\n",
        "5 in range(100_000_000)"
      ],
      "metadata": {
        "id": "kJtQxglR-SM7",
        "outputId": "2adaea4e-ac08-4d62-e96d-76fa4ff08c3e",
        "colab": {
          "base_uri": "https://localhost:8080/"
        }
      },
      "execution_count": null,
      "outputs": [
        {
          "output_type": "stream",
          "name": "stdout",
          "text": [
            "707 ns ± 249 ns per loop (mean ± std. dev. of 7 runs, 1000000 loops each)\n"
          ]
        }
      ]
    },
    {
      "cell_type": "code",
      "source": [
        "%%timeit\n",
        "5 < 100_000_000"
      ],
      "metadata": {
        "id": "uFgRm0VN-T5d",
        "outputId": "836e39d0-0f82-47ac-f1d9-8cffa85bb271",
        "colab": {
          "base_uri": "https://localhost:8080/"
        }
      },
      "execution_count": null,
      "outputs": [
        {
          "output_type": "stream",
          "name": "stdout",
          "text": [
            "39.9 ns ± 1.5 ns per loop (mean ± std. dev. of 7 runs, 10000000 loops each)\n"
          ]
        }
      ]
    },
    {
      "cell_type": "markdown",
      "metadata": {
        "id": "rxywdd0NIh2J"
      },
      "source": [
        "## Bucle \"for\" con Cadenas de texto"
      ]
    },
    {
      "cell_type": "code",
      "metadata": {
        "id": "xB-YVM98IDKU"
      },
      "source": [
        "palabra = \"Electroencefalograma\""
      ],
      "execution_count": null,
      "outputs": []
    },
    {
      "cell_type": "code",
      "source": [
        "palabra_iter = palabra.__iter__()"
      ],
      "metadata": {
        "id": "KoURz9nJ0nw0"
      },
      "execution_count": null,
      "outputs": []
    },
    {
      "cell_type": "code",
      "source": [
        "letra = palabra_iter.__next__()\n",
        "print(letra)"
      ],
      "metadata": {
        "id": "MymUcpDq0qzz",
        "outputId": "db41f7de-ab7c-485c-9abe-b5da8d89930e",
        "colab": {
          "base_uri": "https://localhost:8080/"
        }
      },
      "execution_count": null,
      "outputs": [
        {
          "output_type": "stream",
          "name": "stdout",
          "text": [
            "e\n"
          ]
        }
      ]
    },
    {
      "cell_type": "code",
      "source": [
        "for letra in palabra:\n",
        "  print(letra)"
      ],
      "metadata": {
        "id": "b3eTiLep04e4",
        "outputId": "b83c127f-3192-4b1d-8cad-f4ef99e04c02",
        "colab": {
          "base_uri": "https://localhost:8080/"
        }
      },
      "execution_count": null,
      "outputs": [
        {
          "output_type": "stream",
          "name": "stdout",
          "text": [
            "E\n",
            "l\n",
            "e\n",
            "c\n",
            "t\n",
            "r\n",
            "o\n",
            "e\n",
            "n\n",
            "c\n",
            "e\n",
            "f\n",
            "a\n",
            "l\n",
            "o\n",
            "g\n",
            "r\n",
            "a\n",
            "m\n",
            "a\n"
          ]
        }
      ]
    },
    {
      "cell_type": "code",
      "source": [
        "len(\"Electroencefalograma\")\n",
        "max(palabra)\n",
        "print(sorted(palabra))"
      ],
      "metadata": {
        "id": "cwkPnE70Id8j",
        "outputId": "c4069f0f-2539-4820-9b66-3ceb2dd463cc",
        "colab": {
          "base_uri": "https://localhost:8080/"
        }
      },
      "execution_count": null,
      "outputs": [
        {
          "output_type": "stream",
          "name": "stdout",
          "text": [
            "['E', 'a', 'a', 'a', 'c', 'c', 'e', 'e', 'e', 'f', 'g', 'l', 'l', 'm', 'n', 'o', 'o', 'r', 'r', 't']\n"
          ]
        }
      ]
    },
    {
      "cell_type": "markdown",
      "metadata": {
        "id": "z3gFeBgwI-P3"
      },
      "source": [
        "# Extras"
      ]
    },
    {
      "cell_type": "markdown",
      "metadata": {
        "id": "N7ulGM2KJD_N"
      },
      "source": [
        "## Count\n",
        "En ocaciones será necesario llevar un conteo de cuantas veces se ha iterado en el bucle (for loop), para ello podemos agregar una variable **count** que lleve el conteo de iteraciones."
      ]
    },
    {
      "cell_type": "code",
      "source": [
        "count = 0\n",
        "for i in range(10):\n",
        "  count += 1\n",
        "\n",
        "print(f'Conteo final: {count}')"
      ],
      "metadata": {
        "id": "oZLNbt7j_J6z",
        "outputId": "4c9c41d2-2ce9-4033-8eae-acd93838359a",
        "colab": {
          "base_uri": "https://localhost:8080/"
        }
      },
      "execution_count": null,
      "outputs": [
        {
          "output_type": "stream",
          "name": "stdout",
          "text": [
            "Conteo final: 10\n"
          ]
        }
      ]
    },
    {
      "cell_type": "code",
      "metadata": {
        "id": "pg1MYVTvJCt4"
      },
      "source": [
        "# Cuántas letras tiene \"Electroencefalograma\"\n",
        "\n",
        "palabra = \"Electroencefalograma\"\n",
        "# count = 0\n",
        "no_de_iteracion = 1\n",
        "\n",
        "for letra in palabra:\n",
        "  print('count: ', no_de_iteracion, 'letra: ', letra)\n",
        "  no_de_iteracion += 1"
      ],
      "execution_count": null,
      "outputs": []
    },
    {
      "cell_type": "markdown",
      "source": [
        "## Suma de Gauss\n",
        "Entonces usando la estructura anterior, desarrolla los siguientes ejercicios:\n",
        "\n",
        "a) Usando un **ciclo for** encuentra la suma de los primeros 100 números, esto es: <br>\n",
        "1 + 2 + 3 + 4 + 5 + 6 … hasta llegar a 100\n",
        "\n"
      ],
      "metadata": {
        "id": "zW-f2UH0_hEp"
      }
    },
    {
      "cell_type": "markdown",
      "source": [
        "# Ciclo While\n",
        "\n",
        "Mientras el ciclo for siempre ejecutará el bloqu de código, el ciclo while se ejecutará mientras se cumpla una condicion.\n",
        "<br>\n",
        "**Pasos:** <br>\n",
        "a) Al ejecutarse el cilco while, se evalúa la condición. <br>\n",
        "b) Se ejecuta una vez el bloque de código\n",
        "c) Se evalúa nuevamente la condición\n",
        "d) Si es True se ejecuta nuevamente el bloque de código\n",
        "e) Si es False, el bucle finaliza. <br>\n",
        "```\n",
        "while True:\n",
        "----Se ejecuta el código\n",
        "----print('Hola, mundo!)\n",
        "```"
      ],
      "metadata": {
        "id": "hcV5cW6ssjwl"
      }
    },
    {
      "cell_type": "code",
      "source": [
        "max_iteraciones = 10\n",
        "count = 1\n",
        "while count < max_iteraciones:\n",
        "  print('Hola, mundo!', count)\n",
        "  count += 1"
      ],
      "metadata": {
        "id": "O5qsIShN6ebL"
      },
      "execution_count": null,
      "outputs": []
    },
    {
      "cell_type": "markdown",
      "source": [
        "Hay que tener cuidado con los bucles infinitos, ya que si no controlamos correctamente el flujo, podríamos saturar la memoria."
      ],
      "metadata": {
        "id": "RTZoMrRi68t0"
      }
    },
    {
      "cell_type": "code",
      "source": [
        "max_iteraciones = 10\n",
        "count = 1\n",
        "while count < max_iteraciones:\n",
        "  print('Hola, mundo!', count)\n",
        "  count -= 1"
      ],
      "metadata": {
        "id": "XDSo6t3C7Gat"
      },
      "execution_count": null,
      "outputs": []
    },
    {
      "cell_type": "markdown",
      "source": [
        "También puede ser utilizado para mantener instrucciones activas, como un programa computacional.\n"
      ],
      "metadata": {
        "id": "pg_FlSiHJ6HY"
      }
    },
    {
      "cell_type": "code",
      "source": [
        "round(3.1416 * 0.1 ** 2)"
      ],
      "metadata": {
        "id": "CLAnoaYTK8aD",
        "outputId": "e834108b-7705-4fce-f0bc-7e0c62de2eca",
        "colab": {
          "base_uri": "https://localhost:8080/"
        }
      },
      "execution_count": null,
      "outputs": [
        {
          "output_type": "execute_result",
          "data": {
            "text/plain": [
              "0"
            ]
          },
          "metadata": {},
          "execution_count": 27
        }
      ]
    },
    {
      "cell_type": "code",
      "source": [
        "area = 1\n",
        "print(f'Escribe 0 para salir del programa')\n",
        "while area > 0:\n",
        "  radio = float(input('Ingresa el radio del circulo: '))\n",
        "  area = round(3.1416 * radio ** 2)\n",
        "  if area > 0:\n",
        "    print(f'El area del circulo es: {area} \\n')\n",
        "  else:\n",
        "    print(f'\\nFinalizando el programa')\n",
        "\n",
        ""
      ],
      "metadata": {
        "id": "ZofwJFfAJwNC",
        "outputId": "385ffe83-b8e0-4f71-afa2-cc8b3ce4c1d5",
        "colab": {
          "base_uri": "https://localhost:8080/"
        }
      },
      "execution_count": null,
      "outputs": [
        {
          "output_type": "stream",
          "name": "stdout",
          "text": [
            "Escribe 0 para salir del programa\n",
            "Ingresa el radio del circulo: 12\n",
            "El area del circulo es: 452 \n",
            "\n",
            "Ingresa el radio del circulo: 3\n",
            "El area del circulo es: 28 \n",
            "\n",
            "Ingresa el radio del circulo: 345\n",
            "El area del circulo es: 373929 \n",
            "\n",
            "Ingresa el radio del circulo: -1\n",
            "El area del circulo es: 3 \n",
            "\n",
            "Ingresa el radio del circulo: 123\n",
            "El area del circulo es: 47529 \n",
            "\n",
            "Ingresa el radio del circulo: 0\n",
            "Finalizando el programa\n"
          ]
        }
      ]
    },
    {
      "cell_type": "markdown",
      "source": [
        "### La Conjetura de collatz\n",
        "\n",
        "[Conjetura de Collatz](https://www.youtube.com/watch?v=q_dvxXc7d2Y)"
      ],
      "metadata": {
        "id": "-MCeVDfkkphK"
      }
    },
    {
      "cell_type": "markdown",
      "metadata": {
        "id": "0rgDEpV8vGjb"
      },
      "source": [
        "# Anidado"
      ]
    },
    {
      "cell_type": "code",
      "metadata": {
        "id": "b8xciw73uifh"
      },
      "source": [
        "lista_anidada = ['Rising sun', 'Catan', 'King of Tokyo', [1, 2, 3, 4], 'Viticulture']\n",
        "print(lista_anidada)"
      ],
      "execution_count": null,
      "outputs": []
    },
    {
      "cell_type": "code",
      "metadata": {
        "id": "re4rbQpdwmkw"
      },
      "source": [
        "[[1, 2, 3], [4, 5, 6], [7, 8, 9]]"
      ],
      "execution_count": null,
      "outputs": []
    },
    {
      "cell_type": "code",
      "metadata": {
        "id": "UGHTYiYEwcVA"
      },
      "source": [
        "import pandas as pd\n",
        "import numpy as np\n",
        "\n",
        "df2 = pd.DataFrame(np.array([[1, 2, ['Coord 1', 'Coord 2', 'Coord 3' ]], [4, 5, 6], [7, 8, 9]]),\n",
        "                   columns=['a', 'b', 'c'])\n",
        "\n",
        "display(df2)"
      ],
      "execution_count": null,
      "outputs": []
    },
    {
      "cell_type": "code",
      "source": [
        "pd.DataFrame([[1, 2, 3], [4, 5, 6], [7, 8, 9]], columns=['a', 'b', 'c'])"
      ],
      "metadata": {
        "id": "Ek6GQ1_qJnDi"
      },
      "execution_count": null,
      "outputs": []
    },
    {
      "cell_type": "markdown",
      "metadata": {
        "id": "5joDNTdAnuAI"
      },
      "source": [
        "# Ejercicios integradores"
      ]
    },
    {
      "cell_type": "markdown",
      "metadata": {
        "id": "M6fu00y_OII7"
      },
      "source": [
        "### Extractor de vocales"
      ]
    },
    {
      "cell_type": "code",
      "metadata": {
        "id": "-liUJxpSnldG"
      },
      "source": [
        "vocales = 'aeiou'\n",
        "palabra = 'murcielago'\n",
        "for letra in palabra:\n",
        "  # Inicia bloque de código\n",
        "  if letra in vocales:\n",
        "    print(letra)\n",
        "  else:\n",
        "    print('No es una vocal')\n",
        "  # Termina el bloque\n",
        "\n",
        "print('Analisis finalizado')"
      ],
      "execution_count": null,
      "outputs": []
    },
    {
      "cell_type": "markdown",
      "metadata": {
        "id": "Qz5eFDyFn8IN"
      },
      "source": [
        "Imaginemos que queremos guardar el resultado en otra lista y luego ordenarla"
      ]
    },
    {
      "cell_type": "code",
      "metadata": {
        "id": "6Akgnhc8n52X"
      },
      "source": [
        "vocales = 'aeiou'\n",
        "resultados = list() # nuevo\n",
        "resultados = [] # nuevo\n",
        "for letra in 'murcielago':\n",
        "  if letra in vocales:\n",
        "    resultados.append(letra)"
      ],
      "execution_count": null,
      "outputs": []
    },
    {
      "cell_type": "code",
      "metadata": {
        "id": "cCTMddQRoVqJ"
      },
      "source": [
        "print(resultados)"
      ],
      "execution_count": null,
      "outputs": []
    },
    {
      "cell_type": "code",
      "metadata": {
        "id": "pECL-vSloWyp"
      },
      "source": [
        "resultados.sort()\n",
        "print(resultados)"
      ],
      "execution_count": null,
      "outputs": []
    },
    {
      "cell_type": "markdown",
      "metadata": {
        "id": "GRuEF1FfptUK"
      },
      "source": [
        "### Decodificador de contraseñas"
      ]
    },
    {
      "cell_type": "code",
      "metadata": {
        "id": "-vrNiHIyQbp7"
      },
      "source": [
        "password = '123'\n",
        "\n",
        "intento = 1\n",
        "letras = \"abcdfg1234!@#\" # elementos que nos da a elegir la apliacion Facebook\n",
        "\n",
        "password_found = False\n",
        "\n",
        "for letra in letras:\n",
        "  for letra_2 in letras:\n",
        "    password_intento = letra + letra_2 #primera iteracion = 'aa'\n",
        "    print(password_intento)\n",
        "    if password_intento == password:\n",
        "      password_found = True\n",
        "      print(f'Resultado encontrado en el intento {intento}')\n",
        "      break\n",
        "    intento += 1\n",
        "\n",
        "    # print('estoy en el bloque anidado')\n",
        "  # print('Soy el bloque principal')"
      ],
      "execution_count": null,
      "outputs": []
    },
    {
      "cell_type": "code",
      "metadata": {
        "id": "99CUbHnCp254"
      },
      "source": [
        "password = 'Dk@'\n",
        "intento = 1\n",
        "#letras = \"abcdefghijklmnopqrstuvwxyzABCDFGHIJKLMENOPQRSTUVWXYZ!@#1234567890\"\n",
        "letras = \"abcdefghijklmnopqrstuvwxyzABCDFGHIJKLMOPQRSTUVWXYZ!@%#1234567890\"\n",
        "for letra in letras:\n",
        "  for letra_2 in letras:\n",
        "    for letra_3 in letras:\n",
        "      password_intento = letra + letra_2 + letra_3\n",
        "      # print(password_intento)\n",
        "      if password_intento == password:\n",
        "        # print(password_intento)\n",
        "        print(f'Resultado encontrado en el intento {intento:,}')\n",
        "\n",
        "      intento += 1"
      ],
      "execution_count": null,
      "outputs": []
    },
    {
      "cell_type": "markdown",
      "source": [
        "# Sucesión Fibonacci\n",
        "Es una sucesión de números teniendo como variables iniciales 0 y 1. A partir de estos se generan un nuevo número (número fibonacci), al sumar los últimos dos números de la secuencia.\n",
        "<br>\n",
        "a) Comenzamos con 0, 1 <br>\n",
        "b) 0 + 1 = 1 tercer elemento de la secuencia <br>\n",
        "c) 1 + 1 = 2 cuarto elemento de la secuencia <br>\n",
        "d) 1 + 2 = 3 quinto elemento de la secuencia <br>\n",
        "**Secuencia fibonacci para los primeros 10 elementos**\n",
        "0, 1, 1, 2, 3, 5, 8, 13, 21, 34\n",
        "\n",
        "![Fibonacci-2.jpg](data:image/jpeg;base64,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)"
      ],
      "metadata": {
        "id": "e1RdC9Jr13I6"
      }
    },
    {
      "cell_type": "code",
      "source": [
        "# n1, n2, n3, n4, n5, n6\n",
        "#  0,  1,  1,  2,  3,  5,  8, 13, 21, 34\n",
        "\n",
        "# valores iniciales\n",
        "n1 = 0\n",
        "n2 = 1\n",
        "\n",
        "n3 = n1 + n2\n",
        "print(n3)"
      ],
      "metadata": {
        "id": "YzmxYVZK3jf2"
      },
      "execution_count": null,
      "outputs": []
    },
    {
      "cell_type": "code",
      "source": [
        "n4 = n3 + n2\n",
        "print(n4)"
      ],
      "metadata": {
        "id": "1NTSfcPQ4cJv"
      },
      "execution_count": null,
      "outputs": []
    },
    {
      "cell_type": "code",
      "source": [
        "n5 = n4 + n3\n",
        "print(n5)"
      ],
      "metadata": {
        "id": "lJu0WcNm4h99"
      },
      "execution_count": null,
      "outputs": []
    },
    {
      "cell_type": "code",
      "source": [
        "# n3, n4, n5, ..., nn = nuevos numeros fibonacci\n",
        "nuevo_fibo = n1 + n2\n",
        "print(nuevo_fibo)"
      ],
      "metadata": {
        "id": "cg-tMktb4qw5"
      },
      "execution_count": null,
      "outputs": []
    },
    {
      "cell_type": "code",
      "source": [
        "# Valores iniciales\n",
        "n1 = 0\n",
        "n2 = 1"
      ],
      "metadata": {
        "id": "lV_9MVJY43f0"
      },
      "execution_count": null,
      "outputs": []
    },
    {
      "cell_type": "code",
      "source": [
        "granizo = 1\n",
        "for granizo in range(1,100):\n",
        "  maximo_decimo_meridio = granizo # no usar variables tan largas\n",
        "  while granizo > 4: # no con AND\n",
        "    if granizo%2 == 0:\n",
        "      granizo=granizo/2\n",
        "    else:\n",
        "      granizo=(granizo*3)+1\n",
        "    if granizo > maximo_decimo_meridio:\n",
        "      maximo_decimo_meridio = granizo\n",
        "  print(maximo_decimo_meridio) #debe estar alineado con while"
      ],
      "metadata": {
        "id": "ASBzezPGj1kq"
      },
      "execution_count": null,
      "outputs": []
    },
    {
      "cell_type": "markdown",
      "source": [
        "Desarrolla el algoritmo fibonacci para los primeros N elementos."
      ],
      "metadata": {
        "id": "_LOpWCJe3U5N"
      }
    },
    {
      "cell_type": "markdown",
      "source": [
        "# Conjetura de Collatz\n",
        "Implementar el algoritmo para obtener el máximo valor granizo para los primeros 100 números"
      ],
      "metadata": {
        "id": "9RovNl3WE-Ot"
      }
    },
    {
      "cell_type": "code",
      "source": [
        "# 7, 22, 11, 34, 17, 52, 26, 13, 40, 20, 10, 5, 16, 8, 4, 2, 1\n",
        "# granizo = 1\n",
        "n=0\n",
        "maximos=0\n",
        "n_max=0\n",
        "for granizo in range(1,101):\n",
        "  n+=1\n",
        "  maximo_decimo_meridio = granizo # no usar variables tan largas\n",
        "  while granizo > 4: # no con AND\n",
        "    if granizo%2 == 0:\n",
        "      granizo=granizo/2\n",
        "    else:\n",
        "      granizo=(granizo*3)+1\n",
        "    if granizo > maximo_decimo_meridio:\n",
        "      maximo_decimo_meridio = granizo\n",
        "  if maximo_decimo_meridio > maximos:\n",
        "     maximos = maximo_decimo_meridio\n",
        "     n_max=n\n",
        "     print(n_max, maximos) #cada que exista un maximo de maximos habrá uno nuevo\n",
        "  #print(n, maximo_decimo_meridio) #debe estar alineado con while\n",
        "# print(n_max, maximos)\n"
      ],
      "metadata": {
        "id": "L-njeZBz15D-",
        "outputId": "d50251ad-eeba-4227-b0d6-73da77a5c647",
        "colab": {
          "base_uri": "https://localhost:8080/"
        }
      },
      "execution_count": 37,
      "outputs": [
        {
          "output_type": "stream",
          "name": "stdout",
          "text": [
            "1 1\n",
            "2 2\n",
            "3 3\n",
            "4 4\n",
            "5 16\n",
            "7 52.0\n",
            "15 160.0\n",
            "27 9232.0\n"
          ]
        }
      ]
    }
  ]
}